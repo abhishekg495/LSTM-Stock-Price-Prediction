{
 "cells": [
  {
   "cell_type": "markdown",
   "id": "f5c8839c",
   "metadata": {},
   "source": [
    "### Stock market prediction using stacked LSTM"
   ]
  },
  {
   "cell_type": "markdown",
   "id": "bd32d273",
   "metadata": {},
   "source": [
    "### Part 1: Fetching the data and visualizing it"
   ]
  },
  {
   "cell_type": "code",
   "execution_count": 109,
   "id": "30dc28d1",
   "metadata": {},
   "outputs": [],
   "source": [
    "from config import *\n",
    "import pandas as pd\n",
    "import pandas_datareader as pdr\n",
    "import matplotlib.pyplot as plt"
   ]
  },
  {
   "cell_type": "code",
   "execution_count": 110,
   "id": "d26f8009",
   "metadata": {},
   "outputs": [
    {
     "data": {
      "text/html": [
       "<div>\n",
       "<style scoped>\n",
       "    .dataframe tbody tr th:only-of-type {\n",
       "        vertical-align: middle;\n",
       "    }\n",
       "\n",
       "    .dataframe tbody tr th {\n",
       "        vertical-align: top;\n",
       "    }\n",
       "\n",
       "    .dataframe thead th {\n",
       "        text-align: right;\n",
       "    }\n",
       "</style>\n",
       "<table border=\"1\" class=\"dataframe\">\n",
       "  <thead>\n",
       "    <tr style=\"text-align: right;\">\n",
       "      <th></th>\n",
       "      <th></th>\n",
       "      <th>close</th>\n",
       "      <th>high</th>\n",
       "      <th>low</th>\n",
       "      <th>open</th>\n",
       "      <th>volume</th>\n",
       "      <th>adjClose</th>\n",
       "      <th>adjHigh</th>\n",
       "      <th>adjLow</th>\n",
       "      <th>adjOpen</th>\n",
       "      <th>adjVolume</th>\n",
       "      <th>divCash</th>\n",
       "      <th>splitFactor</th>\n",
       "    </tr>\n",
       "    <tr>\n",
       "      <th>symbol</th>\n",
       "      <th>date</th>\n",
       "      <th></th>\n",
       "      <th></th>\n",
       "      <th></th>\n",
       "      <th></th>\n",
       "      <th></th>\n",
       "      <th></th>\n",
       "      <th></th>\n",
       "      <th></th>\n",
       "      <th></th>\n",
       "      <th></th>\n",
       "      <th></th>\n",
       "      <th></th>\n",
       "    </tr>\n",
       "  </thead>\n",
       "  <tbody>\n",
       "    <tr>\n",
       "      <th rowspan=\"5\" valign=\"top\">AAPL</th>\n",
       "      <th>2017-10-17 00:00:00+00:00</th>\n",
       "      <td>160.47</td>\n",
       "      <td>160.87</td>\n",
       "      <td>159.23</td>\n",
       "      <td>159.78</td>\n",
       "      <td>18816438</td>\n",
       "      <td>38.072044</td>\n",
       "      <td>38.166945</td>\n",
       "      <td>37.777850</td>\n",
       "      <td>37.908339</td>\n",
       "      <td>75265752</td>\n",
       "      <td>0.0</td>\n",
       "      <td>1.0</td>\n",
       "    </tr>\n",
       "    <tr>\n",
       "      <th>2017-10-18 00:00:00+00:00</th>\n",
       "      <td>159.76</td>\n",
       "      <td>160.71</td>\n",
       "      <td>159.60</td>\n",
       "      <td>160.42</td>\n",
       "      <td>16158659</td>\n",
       "      <td>37.903594</td>\n",
       "      <td>38.128985</td>\n",
       "      <td>37.865634</td>\n",
       "      <td>38.060181</td>\n",
       "      <td>64634636</td>\n",
       "      <td>0.0</td>\n",
       "      <td>1.0</td>\n",
       "    </tr>\n",
       "    <tr>\n",
       "      <th>2017-10-19 00:00:00+00:00</th>\n",
       "      <td>155.98</td>\n",
       "      <td>157.08</td>\n",
       "      <td>155.02</td>\n",
       "      <td>156.75</td>\n",
       "      <td>42111326</td>\n",
       "      <td>37.006776</td>\n",
       "      <td>37.267755</td>\n",
       "      <td>36.779013</td>\n",
       "      <td>37.189462</td>\n",
       "      <td>168445304</td>\n",
       "      <td>0.0</td>\n",
       "      <td>1.0</td>\n",
       "    </tr>\n",
       "    <tr>\n",
       "      <th>2017-10-20 00:00:00+00:00</th>\n",
       "      <td>156.25</td>\n",
       "      <td>157.75</td>\n",
       "      <td>155.96</td>\n",
       "      <td>156.61</td>\n",
       "      <td>23612246</td>\n",
       "      <td>37.070835</td>\n",
       "      <td>37.426715</td>\n",
       "      <td>37.002031</td>\n",
       "      <td>37.156246</td>\n",
       "      <td>94448984</td>\n",
       "      <td>0.0</td>\n",
       "      <td>1.0</td>\n",
       "    </tr>\n",
       "    <tr>\n",
       "      <th>2017-10-23 00:00:00+00:00</th>\n",
       "      <td>156.17</td>\n",
       "      <td>157.69</td>\n",
       "      <td>155.50</td>\n",
       "      <td>156.89</td>\n",
       "      <td>21654461</td>\n",
       "      <td>37.051855</td>\n",
       "      <td>37.412480</td>\n",
       "      <td>36.892895</td>\n",
       "      <td>37.222677</td>\n",
       "      <td>86617844</td>\n",
       "      <td>0.0</td>\n",
       "      <td>1.0</td>\n",
       "    </tr>\n",
       "  </tbody>\n",
       "</table>\n",
       "</div>"
      ],
      "text/plain": [
       "                                   close    high     low    open    volume  \\\n",
       "symbol date                                                                  \n",
       "AAPL   2017-10-17 00:00:00+00:00  160.47  160.87  159.23  159.78  18816438   \n",
       "       2017-10-18 00:00:00+00:00  159.76  160.71  159.60  160.42  16158659   \n",
       "       2017-10-19 00:00:00+00:00  155.98  157.08  155.02  156.75  42111326   \n",
       "       2017-10-20 00:00:00+00:00  156.25  157.75  155.96  156.61  23612246   \n",
       "       2017-10-23 00:00:00+00:00  156.17  157.69  155.50  156.89  21654461   \n",
       "\n",
       "                                   adjClose    adjHigh     adjLow    adjOpen  \\\n",
       "symbol date                                                                    \n",
       "AAPL   2017-10-17 00:00:00+00:00  38.072044  38.166945  37.777850  37.908339   \n",
       "       2017-10-18 00:00:00+00:00  37.903594  38.128985  37.865634  38.060181   \n",
       "       2017-10-19 00:00:00+00:00  37.006776  37.267755  36.779013  37.189462   \n",
       "       2017-10-20 00:00:00+00:00  37.070835  37.426715  37.002031  37.156246   \n",
       "       2017-10-23 00:00:00+00:00  37.051855  37.412480  36.892895  37.222677   \n",
       "\n",
       "                                  adjVolume  divCash  splitFactor  \n",
       "symbol date                                                        \n",
       "AAPL   2017-10-17 00:00:00+00:00   75265752      0.0          1.0  \n",
       "       2017-10-18 00:00:00+00:00   64634636      0.0          1.0  \n",
       "       2017-10-19 00:00:00+00:00  168445304      0.0          1.0  \n",
       "       2017-10-20 00:00:00+00:00   94448984      0.0          1.0  \n",
       "       2017-10-23 00:00:00+00:00   86617844      0.0          1.0  "
      ]
     },
     "execution_count": 110,
     "metadata": {},
     "output_type": "execute_result"
    }
   ],
   "source": [
    "## SKIP THIS PART TO USE PRELOADED DATA DIRECTLY\n",
    "# df = pdr.get_data_tiingo('AAPL', api_key=tiingo_key)\n",
    "# df.to_csv('AAPL.csv')\n",
    "# df.head()"
   ]
  },
  {
   "cell_type": "code",
   "execution_count": 112,
   "id": "b0227cb7",
   "metadata": {},
   "outputs": [],
   "source": [
    "df = pd.read_csv('AAPL.csv')"
   ]
  },
  {
   "cell_type": "code",
   "execution_count": 113,
   "id": "3fb4aab1",
   "metadata": {},
   "outputs": [
    {
     "data": {
      "text/html": [
       "<div>\n",
       "<style scoped>\n",
       "    .dataframe tbody tr th:only-of-type {\n",
       "        vertical-align: middle;\n",
       "    }\n",
       "\n",
       "    .dataframe tbody tr th {\n",
       "        vertical-align: top;\n",
       "    }\n",
       "\n",
       "    .dataframe thead th {\n",
       "        text-align: right;\n",
       "    }\n",
       "</style>\n",
       "<table border=\"1\" class=\"dataframe\">\n",
       "  <thead>\n",
       "    <tr style=\"text-align: right;\">\n",
       "      <th></th>\n",
       "      <th>symbol</th>\n",
       "      <th>date</th>\n",
       "      <th>close</th>\n",
       "      <th>high</th>\n",
       "      <th>low</th>\n",
       "      <th>open</th>\n",
       "      <th>volume</th>\n",
       "      <th>adjClose</th>\n",
       "      <th>adjHigh</th>\n",
       "      <th>adjLow</th>\n",
       "      <th>adjOpen</th>\n",
       "      <th>adjVolume</th>\n",
       "      <th>divCash</th>\n",
       "      <th>splitFactor</th>\n",
       "    </tr>\n",
       "  </thead>\n",
       "  <tbody>\n",
       "    <tr>\n",
       "      <th>0</th>\n",
       "      <td>AAPL</td>\n",
       "      <td>2017-10-17 00:00:00+00:00</td>\n",
       "      <td>160.47</td>\n",
       "      <td>160.87</td>\n",
       "      <td>159.23</td>\n",
       "      <td>159.78</td>\n",
       "      <td>18816438</td>\n",
       "      <td>38.072044</td>\n",
       "      <td>38.166945</td>\n",
       "      <td>37.777850</td>\n",
       "      <td>37.908339</td>\n",
       "      <td>75265752</td>\n",
       "      <td>0.0</td>\n",
       "      <td>1.0</td>\n",
       "    </tr>\n",
       "    <tr>\n",
       "      <th>1</th>\n",
       "      <td>AAPL</td>\n",
       "      <td>2017-10-18 00:00:00+00:00</td>\n",
       "      <td>159.76</td>\n",
       "      <td>160.71</td>\n",
       "      <td>159.60</td>\n",
       "      <td>160.42</td>\n",
       "      <td>16158659</td>\n",
       "      <td>37.903594</td>\n",
       "      <td>38.128985</td>\n",
       "      <td>37.865634</td>\n",
       "      <td>38.060181</td>\n",
       "      <td>64634636</td>\n",
       "      <td>0.0</td>\n",
       "      <td>1.0</td>\n",
       "    </tr>\n",
       "    <tr>\n",
       "      <th>2</th>\n",
       "      <td>AAPL</td>\n",
       "      <td>2017-10-19 00:00:00+00:00</td>\n",
       "      <td>155.98</td>\n",
       "      <td>157.08</td>\n",
       "      <td>155.02</td>\n",
       "      <td>156.75</td>\n",
       "      <td>42111326</td>\n",
       "      <td>37.006776</td>\n",
       "      <td>37.267755</td>\n",
       "      <td>36.779013</td>\n",
       "      <td>37.189462</td>\n",
       "      <td>168445304</td>\n",
       "      <td>0.0</td>\n",
       "      <td>1.0</td>\n",
       "    </tr>\n",
       "    <tr>\n",
       "      <th>3</th>\n",
       "      <td>AAPL</td>\n",
       "      <td>2017-10-20 00:00:00+00:00</td>\n",
       "      <td>156.25</td>\n",
       "      <td>157.75</td>\n",
       "      <td>155.96</td>\n",
       "      <td>156.61</td>\n",
       "      <td>23612246</td>\n",
       "      <td>37.070835</td>\n",
       "      <td>37.426715</td>\n",
       "      <td>37.002031</td>\n",
       "      <td>37.156246</td>\n",
       "      <td>94448984</td>\n",
       "      <td>0.0</td>\n",
       "      <td>1.0</td>\n",
       "    </tr>\n",
       "    <tr>\n",
       "      <th>4</th>\n",
       "      <td>AAPL</td>\n",
       "      <td>2017-10-23 00:00:00+00:00</td>\n",
       "      <td>156.17</td>\n",
       "      <td>157.69</td>\n",
       "      <td>155.50</td>\n",
       "      <td>156.89</td>\n",
       "      <td>21654461</td>\n",
       "      <td>37.051855</td>\n",
       "      <td>37.412480</td>\n",
       "      <td>36.892895</td>\n",
       "      <td>37.222677</td>\n",
       "      <td>86617844</td>\n",
       "      <td>0.0</td>\n",
       "      <td>1.0</td>\n",
       "    </tr>\n",
       "  </tbody>\n",
       "</table>\n",
       "</div>"
      ],
      "text/plain": [
       "  symbol                      date   close    high     low    open    volume  \\\n",
       "0   AAPL 2017-10-17 00:00:00+00:00  160.47  160.87  159.23  159.78  18816438   \n",
       "1   AAPL 2017-10-18 00:00:00+00:00  159.76  160.71  159.60  160.42  16158659   \n",
       "2   AAPL 2017-10-19 00:00:00+00:00  155.98  157.08  155.02  156.75  42111326   \n",
       "3   AAPL 2017-10-20 00:00:00+00:00  156.25  157.75  155.96  156.61  23612246   \n",
       "4   AAPL 2017-10-23 00:00:00+00:00  156.17  157.69  155.50  156.89  21654461   \n",
       "\n",
       "    adjClose    adjHigh     adjLow    adjOpen  adjVolume  divCash  splitFactor  \n",
       "0  38.072044  38.166945  37.777850  37.908339   75265752      0.0          1.0  \n",
       "1  37.903594  38.128985  37.865634  38.060181   64634636      0.0          1.0  \n",
       "2  37.006776  37.267755  36.779013  37.189462  168445304      0.0          1.0  \n",
       "3  37.070835  37.426715  37.002031  37.156246   94448984      0.0          1.0  \n",
       "4  37.051855  37.412480  36.892895  37.222677   86617844      0.0          1.0  "
      ]
     },
     "execution_count": 113,
     "metadata": {},
     "output_type": "execute_result"
    }
   ],
   "source": [
    "df['date'] = pd.to_datetime(df['date'])\n",
    "df.head()"
   ]
  },
  {
   "cell_type": "code",
   "execution_count": 114,
   "id": "99e7bc1a",
   "metadata": {
    "scrolled": true
   },
   "outputs": [
    {
     "data": {
      "text/plain": [
       "[<matplotlib.lines.Line2D at 0x24e0c83ddf0>]"
      ]
     },
     "execution_count": 114,
     "metadata": {},
     "output_type": "execute_result"
    },
    {
     "data": {
      "image/png": "[encoded data removed]",
      "text/plain": [
       "<Figure size 432x288 with 1 Axes>"
      ]
     },
     "metadata": {
      "needs_background": "light"
     },
     "output_type": "display_data"
    }
   ],
   "source": [
    "plt.plot(df['date'],df['close'])"
   ]
  },
  {
   "cell_type": "markdown",
   "id": "dbd4349f",
   "metadata": {},
   "source": [
    "This is the data that we shall be using to train our model (closing price of stock on past n no. of days)  "
   ]
  },
  {
   "cell_type": "markdown",
   "id": "b7204c4f",
   "metadata": {},
   "source": [
    "### Part 2: Data Preprocessing (Scaling, Train-Test Split, Preparing)"
   ]
  },
  {
   "cell_type": "code",
   "execution_count": 90,
   "id": "4d2aba8e",
   "metadata": {},
   "outputs": [],
   "source": [
    "import numpy as np\n",
    "from sklearn.preprocessing import MinMaxScaler"
   ]
  },
  {
   "cell_type": "code",
   "execution_count": 91,
   "id": "9dd98860",
   "metadata": {},
   "outputs": [],
   "source": [
    "scaler = MinMaxScaler(feature_range=(0,1))"
   ]
  },
  {
   "cell_type": "code",
   "execution_count": 92,
   "id": "e189c971",
   "metadata": {},
   "outputs": [],
   "source": [
    "df1 = scaler.fit_transform(np.array(df['close']).reshape(-1,1))"
   ]
  },
  {
   "cell_type": "code",
   "execution_count": 135,
   "id": "520b6f58",
   "metadata": {},
   "outputs": [],
   "source": [
    "train_test_ratio = 0.65\n",
    "training_size = int(len(df1)*train_test_ratio)\n",
    "testing_size = int(len(df1)*(1-train_test_ratio))\n",
    "training_data = df1[:training_size]\n",
    "testing_data = df1[training_size:]"
   ]
  },
  {
   "cell_type": "code",
   "execution_count": 136,
   "id": "e5863b3e",
   "metadata": {},
   "outputs": [],
   "source": [
    "def create_dataset(data,window_size=100):\n",
    "    X = []\n",
    "    Y = []\n",
    "    for i in range(len(data)-window_size-1):\n",
    "        X.append(data[i:(i+window_size), 0])\n",
    "        Y.append(data[i+window_size])\n",
    "    return np.array(X), np.array(Y)"
   ]
  },
  {
   "cell_type": "code",
   "execution_count": 137,
   "id": "860d2b15",
   "metadata": {},
   "outputs": [
    {
     "data": {
      "image/png": "[encoded data removed]",
      "text/plain": [
       "<Figure size 432x288 with 1 Axes>"
      ]
     },
     "metadata": {
      "needs_background": "light"
     },
     "output_type": "display_data"
    }
   ],
   "source": [
    "X_train, Y_train = create_dataset(training_data)\n",
    "X_test, Y_test = create_dataset(testing_data)\n",
    "plt.plot(Y_train, label='Training Data')\n",
    "plt.plot(range(len(Y_train), len(Y_train) + len(Y_test)),Y_test, label=\"Test Data\")\n",
    "plt.show()"
   ]
  },
  {
   "cell_type": "markdown",
   "id": "aa008f79",
   "metadata": {},
   "source": [
    "\n",
    "\n"
   ]
  },
  {
   "cell_type": "markdown",
   "id": "409d6887",
   "metadata": {},
   "source": [
    "### Part 3: Prepare the model, configure it and train it"
   ]
  },
  {
   "cell_type": "code",
   "execution_count": 138,
   "id": "198a64ee",
   "metadata": {},
   "outputs": [],
   "source": [
    "X_train = X_train.reshape(X_train.shape[0],X_train.shape[1],1)\n",
    "X_test = X_test.reshape(X_test.shape[0],X_test.shape[1],1)"
   ]
  },
  {
   "cell_type": "code",
   "execution_count": 139,
   "id": "24f0cfbb",
   "metadata": {},
   "outputs": [],
   "source": [
    "from tensorflow.keras.models import Sequential\n",
    "from tensorflow.keras.layers import Dense, LSTM"
   ]
  },
  {
   "cell_type": "code",
   "execution_count": 140,
   "id": "60fc5627",
   "metadata": {},
   "outputs": [],
   "source": [
    "model = Sequential()\n",
    "model.add(LSTM(50, return_sequences=True, input_shape=(X_train.shape[-2],X_train.shape[-1])))\n",
    "model.add(LSTM(50, return_sequences=True))\n",
    "model.add(LSTM(50))\n",
    "model.add(Dense(1))\n",
    "model.compile(loss='mean_squared_error', optimizer='adam')"
   ]
  },
  {
   "cell_type": "code",
   "execution_count": 141,
   "id": "c6b78fc5",
   "metadata": {},
   "outputs": [
    {
     "name": "stdout",
     "output_type": "stream",
     "text": [
      "Epoch 1/60\n",
      "12/12 [==============================] - 4s 78ms/step - loss: 0.0377\n",
      "Epoch 2/60\n",
      "12/12 [==============================] - 1s 80ms/step - loss: 0.0160\n",
      "Epoch 3/60\n",
      "12/12 [==============================] - 1s 77ms/step - loss: 0.0109\n",
      "Epoch 4/60\n",
      "12/12 [==============================] - 1s 77ms/step - loss: 0.0100\n",
      "Epoch 5/60\n",
      "12/12 [==============================] - 1s 80ms/step - loss: 0.0088\n",
      "Epoch 6/60\n",
      "12/12 [==============================] - 1s 78ms/step - loss: 0.0093\n",
      "Epoch 7/60\n",
      "12/12 [==============================] - 1s 76ms/step - loss: 0.0085\n",
      "Epoch 8/60\n",
      "12/12 [==============================] - 1s 76ms/step - loss: 0.0077\n",
      "Epoch 9/60\n",
      "12/12 [==============================] - 1s 77ms/step - loss: 0.0068\n",
      "Epoch 10/60\n",
      "12/12 [==============================] - 1s 77ms/step - loss: 0.0056\n",
      "Epoch 11/60\n",
      "12/12 [==============================] - 1s 77ms/step - loss: 0.0073\n",
      "Epoch 12/60\n",
      "12/12 [==============================] - 1s 77ms/step - loss: 0.0057\n",
      "Epoch 13/60\n",
      "12/12 [==============================] - 1s 77ms/step - loss: 0.0046\n",
      "Epoch 14/60\n",
      "12/12 [==============================] - 1s 80ms/step - loss: 0.0042\n",
      "Epoch 15/60\n",
      "12/12 [==============================] - 1s 82ms/step - loss: 0.0036\n",
      "Epoch 16/60\n",
      "12/12 [==============================] - 1s 77ms/step - loss: 0.0035\n",
      "Epoch 17/60\n",
      "12/12 [==============================] - 1s 77ms/step - loss: 0.0038\n",
      "Epoch 18/60\n",
      "12/12 [==============================] - 1s 77ms/step - loss: 0.0035\n",
      "Epoch 19/60\n",
      "12/12 [==============================] - 1s 77ms/step - loss: 0.0031\n",
      "Epoch 20/60\n",
      "12/12 [==============================] - 1s 77ms/step - loss: 0.0027\n",
      "Epoch 21/60\n",
      "12/12 [==============================] - 1s 80ms/step - loss: 0.0030\n",
      "Epoch 22/60\n",
      "12/12 [==============================] - 1s 78ms/step - loss: 0.0057\n",
      "Epoch 23/60\n",
      "12/12 [==============================] - 1s 78ms/step - loss: 0.0027\n",
      "Epoch 24/60\n",
      "12/12 [==============================] - 1s 77ms/step - loss: 0.0032\n",
      "Epoch 25/60\n",
      "12/12 [==============================] - 1s 78ms/step - loss: 0.0026\n",
      "Epoch 26/60\n",
      "12/12 [==============================] - 1s 78ms/step - loss: 0.0027\n",
      "Epoch 27/60\n",
      "12/12 [==============================] - 1s 79ms/step - loss: 0.0038\n",
      "Epoch 28/60\n",
      "12/12 [==============================] - 1s 79ms/step - loss: 0.0034\n",
      "Epoch 29/60\n",
      "12/12 [==============================] - 1s 79ms/step - loss: 0.0027\n",
      "Epoch 30/60\n",
      "12/12 [==============================] - 1s 84ms/step - loss: 0.0033\n",
      "Epoch 31/60\n",
      "12/12 [==============================] - 1s 79ms/step - loss: 0.0026\n",
      "Epoch 32/60\n",
      "12/12 [==============================] - 1s 78ms/step - loss: 0.0021\n",
      "Epoch 33/60\n",
      "12/12 [==============================] - 1s 78ms/step - loss: 0.0020\n",
      "Epoch 34/60\n",
      "12/12 [==============================] - 1s 79ms/step - loss: 0.0020\n",
      "Epoch 35/60\n",
      "12/12 [==============================] - 1s 79ms/step - loss: 0.0023\n",
      "Epoch 36/60\n",
      "12/12 [==============================] - 1s 78ms/step - loss: 0.0047\n",
      "Epoch 37/60\n",
      "12/12 [==============================] - 1s 81ms/step - loss: 0.0025\n",
      "Epoch 38/60\n",
      "12/12 [==============================] - 1s 79ms/step - loss: 0.0024\n",
      "Epoch 39/60\n",
      "12/12 [==============================] - 1s 79ms/step - loss: 0.0022\n",
      "Epoch 40/60\n",
      "12/12 [==============================] - 1s 78ms/step - loss: 0.0019\n",
      "Epoch 41/60\n",
      "12/12 [==============================] - 1s 80ms/step - loss: 0.0018\n",
      "Epoch 42/60\n",
      "12/12 [==============================] - 1s 80ms/step - loss: 0.0017\n",
      "Epoch 43/60\n",
      "12/12 [==============================] - 1s 79ms/step - loss: 0.0018\n",
      "Epoch 44/60\n",
      "12/12 [==============================] - 1s 82ms/step - loss: 0.0020\n",
      "Epoch 45/60\n",
      "12/12 [==============================] - 1s 79ms/step - loss: 0.0032\n",
      "Epoch 46/60\n",
      "12/12 [==============================] - 1s 78ms/step - loss: 0.0036\n",
      "Epoch 47/60\n",
      "12/12 [==============================] - 1s 78ms/step - loss: 0.0026\n",
      "Epoch 48/60\n",
      "12/12 [==============================] - 1s 78ms/step - loss: 0.0023\n",
      "Epoch 49/60\n",
      "12/12 [==============================] - 1s 78ms/step - loss: 0.0021\n",
      "Epoch 50/60\n",
      "12/12 [==============================] - 1s 81ms/step - loss: 0.0019\n",
      "Epoch 51/60\n",
      "12/12 [==============================] - 1s 80ms/step - loss: 0.0019\n",
      "Epoch 52/60\n",
      "12/12 [==============================] - 1s 78ms/step - loss: 0.0019\n",
      "Epoch 53/60\n",
      "12/12 [==============================] - 1s 78ms/step - loss: 0.0021\n",
      "Epoch 54/60\n",
      "12/12 [==============================] - 1s 82ms/step - loss: 0.0018\n",
      "Epoch 55/60\n",
      "12/12 [==============================] - 1s 79ms/step - loss: 0.0017\n",
      "Epoch 56/60\n",
      "12/12 [==============================] - 1s 79ms/step - loss: 0.0019\n",
      "Epoch 57/60\n",
      "12/12 [==============================] - 1s 79ms/step - loss: 0.0018\n",
      "Epoch 58/60\n",
      "12/12 [==============================] - 1s 79ms/step - loss: 0.0017\n",
      "Epoch 59/60\n",
      "12/12 [==============================] - 1s 79ms/step - loss: 0.0017\n",
      "Epoch 60/60\n",
      "12/12 [==============================] - 1s 79ms/step - loss: 0.0020\n"
     ]
    },
    {
     "data": {
      "text/plain": [
       "<keras.callbacks.History at 0x24e145c08e0>"
      ]
     },
     "execution_count": 141,
     "metadata": {},
     "output_type": "execute_result"
    }
   ],
   "source": [
    "model.fit(X_train, Y_train, epochs=60, batch_size=64, verbose=True)"
   ]
  },
  {
   "cell_type": "markdown",
   "id": "cf5bc08e",
   "metadata": {},
   "source": [
    " "
   ]
  },
  {
   "cell_type": "markdown",
   "id": "c8a2101f",
   "metadata": {},
   "source": [
    "### Part 4: Evaluating the results"
   ]
  },
  {
   "cell_type": "code",
   "execution_count": 142,
   "id": "6e71f7ea",
   "metadata": {},
   "outputs": [
    {
     "name": "stdout",
     "output_type": "stream",
     "text": [
      "23/23 [==============================] - 1s 16ms/step\n",
      "11/11 [==============================] - 0s 18ms/step\n"
     ]
    }
   ],
   "source": [
    "y_train = scaler.inverse_transform(model.predict(X_train))\n",
    "y_test = scaler.inverse_transform(model.predict(X_test))"
   ]
  },
  {
   "cell_type": "code",
   "execution_count": 143,
   "id": "d54ed43c",
   "metadata": {},
   "outputs": [
    {
     "data": {
      "text/plain": [
       "[<matplotlib.lines.Line2D at 0x24e1d21dcd0>]"
      ]
     },
     "execution_count": 143,
     "metadata": {},
     "output_type": "execute_result"
    },
    {
     "data": {
      "image/png": "[encoded data removed]",
      "text/plain": [
       "<Figure size 432x288 with 1 Axes>"
      ]
     },
     "metadata": {
      "needs_background": "light"
     },
     "output_type": "display_data"
    }
   ],
   "source": [
    "plt.plot(scaler.inverse_transform(Y_train))\n",
    "plt.plot(y_train, color='red')"
   ]
  },
  {
   "cell_type": "markdown",
   "id": "6bb4dcb0",
   "metadata": {},
   "source": [
    "#### Model shows great performance on training data, but is it indicative of overfitting ? Let's find out"
   ]
  },
  {
   "cell_type": "code",
   "execution_count": 144,
   "id": "d4b4bb93",
   "metadata": {},
   "outputs": [
    {
     "data": {
      "text/plain": [
       "[<matplotlib.lines.Line2D at 0x24e1d269280>]"
      ]
     },
     "execution_count": 144,
     "metadata": {},
     "output_type": "execute_result"
    },
    {
     "data": {
      "image/png": "[encoded data removed]",
      "text/plain": [
       "<Figure size 432x288 with 1 Axes>"
      ]
     },
     "metadata": {
      "needs_background": "light"
     },
     "output_type": "display_data"
    }
   ],
   "source": [
    "plt.plot(scaler.inverse_transform(Y_test))\n",
    "plt.plot(range(len(y_test)), y_test, color='red')"
   ]
  },
  {
   "cell_type": "markdown",
   "id": "84e5ce2c",
   "metadata": {},
   "source": [
    "##### As we can see, the model performs quite well on the given test set as well. Let's quantify this performance"
   ]
  },
  {
   "cell_type": "code",
   "execution_count": 147,
   "id": "ac164255",
   "metadata": {},
   "outputs": [],
   "source": [
    "from sklearn.metrics import mean_squared_error"
   ]
  },
  {
   "cell_type": "code",
   "execution_count": 156,
   "id": "5fd008bb",
   "metadata": {},
   "outputs": [],
   "source": [
    "rmse = np.sqrt(mean_squared_error(y_test,scaler.inverse_transform(Y_test)))"
   ]
  },
  {
   "cell_type": "code",
   "execution_count": 159,
   "id": "3f2e17bc",
   "metadata": {},
   "outputs": [
    {
     "name": "stdout",
     "output_type": "stream",
     "text": [
      "Average stock price in testing period = 154.87820588235294\n",
      "Average error percentage = 3.781810558557297\n"
     ]
    }
   ],
   "source": [
    "print(\"Average stock price in testing period = \" + str(np.mean(scaler.inverse_transform(Y_test))))\n",
    "print(\"Average error percentage = \" + str(100 * rmse/np.mean(scaler.inverse_transform(Y_test))))"
   ]
  },
  {
   "cell_type": "markdown",
   "id": "899fe990",
   "metadata": {},
   "source": [
    "### The model gives an average error of 3.7% while predicting the price in the testing window"
   ]
  }
 ],
 "metadata": {
  "kernelspec": {
   "display_name": "Python 3",
   "language": "python",
   "name": "python3"
  },
  "language_info": {
   "codemirror_mode": {
    "name": "ipython",
    "version": 3
   },
   "file_extension": ".py",
   "mimetype": "text/x-python",
   "name": "python",
   "nbconvert_exporter": "python",
   "pygments_lexer": "ipython3",
   "version": "3.8.8"
  }
 },
 "nbformat": 4,
 "nbformat_minor": 5
}
